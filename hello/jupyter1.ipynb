{
 "cells": [
  {
   "cell_type": "code",
   "execution_count": 1,
   "metadata": {},
   "outputs": [
    {
     "name": "stdout",
     "output_type": "stream",
     "text": [
      "Enter password: ········\n",
      "Verify password: ········\n"
     ]
    },
    {
     "data": {
      "text/plain": [
       "'sha1:8493e810f097:cffe7bf193dfd17ee26182cfbba826e29c2df795'"
      ]
     },
     "execution_count": 1,
     "metadata": {},
     "output_type": "execute_result"
    }
   ],
   "source": [
    "from notebook.auth import passwd\n",
    "passwd()\n"
   ]
  },
  {
   "cell_type": "code",
   "execution_count": 20,
   "metadata": {},
   "outputs": [
    {
     "name": "stdout",
     "output_type": "stream",
     "text": [
      "0.6428571428571429\n",
      "0.40977637753840185\n",
      "0.5305095811322291\n"
     ]
    }
   ],
   "source": [
    "from math import log\n",
    "from math import e\n",
    "\n",
    "print(9/14)\n",
    "print(-9/14*log(9 / 14, 2))\n",
    "print(-5/14*log(5 / 14, 2))"
   ]
  },
  {
   "cell_type": "code",
   "execution_count": 8,
   "metadata": {},
   "outputs": [
    {
     "name": "stdout",
     "output_type": "stream",
     "text": [
      "math.log(100.12) :  4.6063694665635735\n",
      "math.log(100.72) :  4.612344389736092\n",
      "math.log(119L) :  4.77912349311153\n",
      "math.log(math.pi) :  1.1447298858494002\n",
      "math.log(10,2) :  3.3219280948873626\n",
      "math.log(9//14,2) :  -0.6374299206152917\n"
     ]
    }
   ],
   "source": [
    "import math   # 导入 math 模块\n",
    " \n",
    "print(\"math.log(100.12) : \", math.log(100.12))\n",
    "print(\"math.log(100.72) : \", math.log(100.72))\n",
    "print(\"math.log(119L) : \", math.log(119))\n",
    "print(\"math.log(math.pi) : \", math.log(math.pi))\n",
    "# 设置底数\n",
    "print(\"math.log(10,2) : \", math.log(10,2))\n",
    "print(\"math.log(9//14,2) : \", math.log(9/14,2))"
   ]
  },
  {
   "cell_type": "code",
   "execution_count": 3,
   "metadata": {},
   "outputs": [
    {
     "name": "stdout",
     "output_type": "stream",
     "text": [
      "0.816496580927726\n",
      "1.1547005383792515\n"
     ]
    }
   ],
   "source": [
    "import math\n",
    "\n",
    "print(pow(2/3,1/2))\n",
    "print(pow(4/3,1/2))"
   ]
  },
  {
   "cell_type": "code",
   "execution_count": 5,
   "metadata": {},
   "outputs": [
    {
     "name": "stdout",
     "output_type": "stream",
     "text": [
      "10.8\n",
      "11.200000000000001\n",
      "-2.499999999999998\n"
     ]
    }
   ],
   "source": [
    "import math\n",
    "print(3 * 3.6)\n",
    "print(3.5 * 3.2)\n",
    "print(1 / ( 3 * 3.6 - 3.5 * 3.2) )"
   ]
  },
  {
   "cell_type": "code",
   "execution_count": 9,
   "metadata": {},
   "outputs": [
    {
     "name": "stdout",
     "output_type": "stream",
     "text": [
      "1.0163963568148535\n",
      "1.0006001800360054\n",
      "0.01499943750632809\n",
      "0.01500112510125922\n"
     ]
    }
   ],
   "source": [
    "import math\n",
    "print(pow(1.05,1/3))\n",
    "print(pow(math.e,0.0006))\n",
    "print(math.sin(0.015))\n",
    "print(math.tan(0.015))\n"
   ]
  },
  {
   "cell_type": "code",
   "execution_count": null,
   "metadata": {},
   "outputs": [],
   "source": []
  }
 ],
 "metadata": {
  "kernelspec": {
   "display_name": "Python 3",
   "language": "python",
   "name": "python3"
  },
  "language_info": {
   "codemirror_mode": {
    "name": "ipython",
    "version": 3
   },
   "file_extension": ".py",
   "mimetype": "text/x-python",
   "name": "python",
   "nbconvert_exporter": "python",
   "pygments_lexer": "ipython3",
   "version": "3.6.6"
  },
  "pycharm": {
   "stem_cell": {
    "cell_type": "raw",
    "source": [],
    "metadata": {
     "collapsed": false
    }
   }
  }
 },
 "nbformat": 4,
 "nbformat_minor": 2
}