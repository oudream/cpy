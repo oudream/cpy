{
 "cells": [
  {
   "cell_type": "code",
   "execution_count": null,
   "metadata": {},
   "outputs": [],
   "source": [
    "\n",
    "arr = [1, 2, 4, 1, 7, 8, 3]\n",
    "\n",
    "def rec(int k):\n",
    "    if (k == 1):\n",
    "        return arr[0]\n",
    "    if (k == 2):\n",
    "        return arr[1]\n",
    "    \n",
    "    int r1=rec(k-1)\n",
    "    int r2=rec(k-2)+arr[k]\n",
    "    if (r1 > r2):\n",
    "        return r1\n",
    "    else:\n",
    "        return r2\n",
    "        \n",
    "        "
   ]
  },
  {
   "cell_type": "code",
   "execution_count": null,
   "metadata": {},
   "outputs": [],
   "source": []
  }
 ],
 "metadata": {
  "kernelspec": {
   "display_name": "Python 3",
   "language": "python",
   "name": "python3"
  },
  "language_info": {
   "codemirror_mode": {
    "name": "ipython",
    "version": 3
   },
   "file_extension": ".py",
   "mimetype": "text/x-python",
   "name": "python",
   "nbconvert_exporter": "python",
   "pygments_lexer": "ipython3",
   "version": "3.6.6"
  }
 },
 "nbformat": 4,
 "nbformat_minor": 2
}
