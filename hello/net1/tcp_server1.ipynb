{
 "cells": [
  {
   "cell_type": "code",
   "execution_count": null,
   "metadata": {},
   "outputs": [
    {
     "name": "stdout",
     "output_type": "stream",
     "text": [
      "Listening on 0.0.0.0:9998\n"
     ]
    },
    {
     "name": "stderr",
     "output_type": "stream",
     "text": [
      "Exception in thread Thread-5:\n",
      "Traceback (most recent call last):\n",
      "  File \"/Library/Frameworks/Python.framework/Versions/3.6/lib/python3.6/threading.py\", line 916, in _bootstrap_inner\n",
      "    self.run()\n",
      "  File \"/Library/Frameworks/Python.framework/Versions/3.6/lib/python3.6/threading.py\", line 864, in run\n",
      "    self._target(*self._args, **self._kwargs)\n",
      "  File \"<ipython-input-3-e32721b0a392>\", line 16, in handle_client_connection\n",
      "    request = client_socket.recv(1024)\n",
      "OSError: [Errno 9] Bad file descriptor\n",
      "\n"
     ]
    },
    {
     "name": "stdout",
     "output_type": "stream",
     "text": [
      "Accepted connection from 127.0.0.1:54605Received b'GET /index.html HTTP/1.1\\r\\nHost: integralist.co.uk\\r\\n\\r\\n'\n",
      "\n",
      "Received b'GET /index.html HTTP/1.1\\r\\nHost: integralist.co.uk\\r\\n\\r\\n'\n"
     ]
    }
   ],
   "source": [
    "import socket\n",
    "import threading\n",
    "\n",
    "bind_ip = '0.0.0.0'\n",
    "bind_port = 9998\n",
    "\n",
    "server = socket.socket(socket.AF_INET, socket.SOCK_STREAM)\n",
    "server.bind((bind_ip, bind_port))\n",
    "server.listen(5)  # max backlog of connections\n",
    "\n",
    "print('Listening on {}:{}'.format(bind_ip, bind_port))\n",
    "\n",
    "\n",
    "def handle_client_connection(client_socket):\n",
    "    while True:\n",
    "        request = client_socket.recv(1024)\n",
    "        if (len(request) > 0):\n",
    "            print('Received {}'.format(request))\n",
    "            client_socket.send('ACK!'.encode('utf-8'))\n",
    "        else:\n",
    "            client_socket.close()\n",
    "            print('Client close!')\n",
    "\n",
    "while True:\n",
    "    client_sock, address = server.accept()\n",
    "    print('Accepted connection from {}:{}'.format(address[0], address[1]))\n",
    "    client_handler = threading.Thread(\n",
    "        target=handle_client_connection,\n",
    "        args=(client_sock,)  # without comma you'd get a... TypeError: handle_client_connection() argument after * must be a sequence, not _socketobject\n",
    "    )\n",
    "    client_handler.start()"
   ]
  },
  {
   "cell_type": "code",
   "execution_count": null,
   "metadata": {},
   "outputs": [],
   "source": [
    "server.close()"
   ]
  },
  {
   "cell_type": "code",
   "execution_count": null,
   "metadata": {},
   "outputs": [],
   "source": []
  }
 ],
 "metadata": {
  "kernelspec": {
   "display_name": "Python 3",
   "language": "python",
   "name": "python3"
  },
  "language_info": {
   "codemirror_mode": {
    "name": "ipython",
    "version": 3
   },
   "file_extension": ".py",
   "mimetype": "text/x-python",
   "name": "python",
   "nbconvert_exporter": "python",
   "pygments_lexer": "ipython3",
   "version": "3.6.1"
  }
 },
 "nbformat": 4,
 "nbformat_minor": 2
}
