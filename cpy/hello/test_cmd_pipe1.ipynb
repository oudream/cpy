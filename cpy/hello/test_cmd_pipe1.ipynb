{
 "cells": [
  {
   "cell_type": "markdown",
   "metadata": {},
   "source": [
    "Python脚本中使用命令行管道数据的示例\n",
    "\n",
    "test.py：\n",
    "\n",
    "import sys;\n",
    "\n",
    "print sys.argv;\n",
    "\n",
    "names = {}\n",
    "\n",
    "names = sys.stdin.readlines()\n",
    "\n",
    "print names\n",
    "执行命令行：\n",
    "\n",
    "$ ls / | python test.py\n"
   ]
  },
  {
   "cell_type": "code",
   "execution_count": null,
   "metadata": {},
   "outputs": [],
   "source": [
    "test.py：\n",
    "\n",
    "import sys;\n",
    "\n",
    "print sys.argv;\n",
    "\n",
    "names = {}\n",
    "\n",
    "names = sys.stdin.readlines()\n",
    "\n",
    "print names"
   ]
  }
 ],
 "metadata": {
  "kernelspec": {
   "display_name": "Python 3",
   "language": "python",
   "name": "python3"
  },
  "language_info": {
   "codemirror_mode": {
    "name": "ipython",
    "version": 3
   },
   "file_extension": ".py",
   "mimetype": "text/x-python",
   "name": "python",
   "nbconvert_exporter": "python",
   "pygments_lexer": "ipython3",
   "version": "3.6.1"
  }
 },
 "nbformat": 4,
 "nbformat_minor": 2
}
