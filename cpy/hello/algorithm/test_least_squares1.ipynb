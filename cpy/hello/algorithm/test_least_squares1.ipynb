{
 "cells": [
  {
   "cell_type": "code",
   "execution_count": 1,
   "metadata": {},
   "outputs": [
    {
     "name": "stdout",
     "output_type": "stream",
     "text": [
      "k= 0.900458420439 b= 0.831055638877\n",
      "cost：1\n",
      "求解的拟合直线为:\n",
      "y=0.9x+0.83\n"
     ]
    },
    {
     "data": {
      "image/png": "[encoded data removed]",
      "text/plain": [
       "<matplotlib.figure.Figure at 0x1111367f0>"
      ]
     },
     "metadata": {},
     "output_type": "display_data"
    }
   ],
   "source": [
    "##最小二乘法\n",
    "import numpy as np   ##科学计算库 \n",
    "import scipy as sp   ##在numpy基础上实现的部分算法库\n",
    "import matplotlib.pyplot as plt  ##绘图库\n",
    "from scipy.optimize import leastsq  ##引入最小二乘法算法\n",
    "\n",
    "'''\n",
    "     设置样本数据，真实数据需要在这里处理\n",
    "'''\n",
    "##样本数据(Xi,Yi)，需要转换成数组(列表)形式\n",
    "Xi=np.array([6.19,2.51,7.29,7.01,5.7,2.66,3.98,2.5,9.1,4.2])\n",
    "Yi=np.array([5.25,2.83,6.41,6.71,5.1,4.23,5.05,1.98,10.5,6.3])\n",
    "\n",
    "'''\n",
    "    设定拟合函数和偏差函数\n",
    "    函数的形状确定过程：\n",
    "    1.先画样本图像\n",
    "    2.根据样本图像大致形状确定函数形式(直线、抛物线、正弦余弦等)\n",
    "'''\n",
    "\n",
    "##需要拟合的函数func :指定函数的形状\n",
    "def func(p,x):\n",
    "    k,b=p\n",
    "    return k*x+b\n",
    "\n",
    "##偏差函数：x,y都是列表:这里的x,y更上面的Xi,Yi中是一一对应的\n",
    "def error(p,x,y):\n",
    "    return func(p,x)-y\n",
    "\n",
    "'''\n",
    "    主要部分：附带部分说明\n",
    "    1.leastsq函数的返回值tuple，第一个元素是求解结果，第二个是求解的代价值(个人理解)\n",
    "    2.官网的原话（第二个值）：Value of the cost function at the solution\n",
    "    3.实例：Para=>(array([ 0.61349535,  1.79409255]), 3)\n",
    "    4.返回值元组中第一个值的数量跟需要求解的参数的数量一致\n",
    "'''\n",
    "\n",
    "#k,b的初始值，可以任意设定,经过几次试验，发现p0的值会影响cost的值：Para[1]\n",
    "p0=[1,20]\n",
    "\n",
    "#把error函数中除了p0以外的参数打包到args中(使用要求)\n",
    "Para=leastsq(error,p0,args=(Xi,Yi))\n",
    "\n",
    "#读取结果\n",
    "k,b=Para[0]\n",
    "print(\"k=\",k,\"b=\",b)\n",
    "print(\"cost：\"+str(Para[1]))\n",
    "print(\"求解的拟合直线为:\")\n",
    "print(\"y=\"+str(round(k,2))+\"x+\"+str(round(b,2)))\n",
    "\n",
    "'''\n",
    "   绘图，看拟合效果.\n",
    "   matplotlib默认不支持中文，label设置中文的话需要另行设置\n",
    "   如果报错，改成英文就可以\n",
    "'''\n",
    "\n",
    "#画样本点\n",
    "plt.figure(figsize=(8,6)) ##指定图像比例： 8：6\n",
    "plt.scatter(Xi,Yi,color=\"green\",label=\"样本数据\",linewidth=2) \n",
    "\n",
    "#画拟合直线\n",
    "x=np.linspace(0,12,100) ##在0-15直接画100个连续点\n",
    "y=k*x+b ##函数式\n",
    "plt.plot(x,y,color=\"red\",label=\"拟合直线\",linewidth=2) \n",
    "plt.legend(loc='lower right') #绘制图例\n",
    "plt.show()"
   ]
  },
  {
   "cell_type": "code",
   "execution_count": null,
   "metadata": {},
   "outputs": [],
   "source": []
  }
 ],
 "metadata": {
  "kernelspec": {
   "display_name": "Python 3",
   "language": "python",
   "name": "python3"
  },
  "language_info": {
   "codemirror_mode": {
    "name": "ipython",
    "version": 3
   },
   "file_extension": ".py",
   "mimetype": "text/x-python",
   "name": "python",
   "nbconvert_exporter": "python",
   "pygments_lexer": "ipython3",
   "version": "3.6.1"
  }
 },
 "nbformat": 4,
 "nbformat_minor": 2
}
