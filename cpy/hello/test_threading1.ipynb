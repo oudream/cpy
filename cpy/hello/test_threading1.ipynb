{
 "cells": [
  {
   "cell_type": "code",
   "execution_count": null,
   "metadata": {},
   "outputs": [],
   "source": [
    "###最小二乘法试验###\n",
    "import numpy as np\n",
    "from scipy.optimize import leastsq\n",
    "\n",
    "###采样点(Xi,Yi)###\n",
    "Xi=np.array([8.19,2.72,6.39,8.71,4.7,2.66,3.78])\n",
    "Yi=np.array([7.01,2.78,6.47,6.71,4.1,4.23,4.05])\n",
    "\n",
    "###需要拟合的函数func及误差error###\n",
    "def func(p,x):\n",
    "    k,b=p\n",
    "    return k*x+b\n",
    "\n",
    "def error(p,x,y,s):\n",
    "    print(s)\n",
    "    return func(p,x)-y #x、y都是列表，故返回值也是个列表\n",
    "\n",
    "#TEST\n",
    "p0=[100,2]\n",
    "#print( error(p0,Xi,Yi) )\n",
    "\n",
    "###主函数从此开始###\n",
    "s=\"Test the number of iteration\" #试验最小二乘法函数leastsq得调用几次error函数才能找到使得均方误差之和最小的k、b\n",
    "Para=leastsq(error,p0,args=(Xi,Yi,s)) #把error函数中除了p以外的参数打包到args中\n",
    "k,b=Para[0]\n",
    "print((\"k=\",k,'\\n',\"b=\",b))\n",
    "\n",
    "###绘图，看拟合效果###\n",
    "import matplotlib.pyplot as plt\n",
    "\n",
    "plt.figure(figsize=(8,6))\n",
    "plt.scatter(Xi,Yi,color=\"red\",label=\"Sample Point\",linewidth=3) #画样本点\n",
    "x=np.linspace(0,10,1000)\n",
    "y=k*x+b\n",
    "plt.plot(x,y,color=\"orange\",label=\"Fitting Line\",linewidth=2) #画拟合直线\n",
    "plt.legend()\n",
    "plt.show()"
   ]
  },
  {
   "cell_type": "code",
   "execution_count": 1,
   "metadata": {},
   "outputs": [
    {
     "name": "stdout",
     "output_type": "stream",
     "text": [
      "112272535095293 is prime: True\n",
      "112582705942171 is prime: True\n",
      "112272535095293 is prime: True\n",
      "115280095190773 is prime: True\n",
      "115797848077099 is prime: True\n",
      "1099726899285419 is prime: False\n"
     ]
    }
   ],
   "source": [
    "import concurrent.futures\n",
    "import math\n",
    "\n",
    "PRIMES = [\n",
    "    112272535095293,\n",
    "    112582705942171,\n",
    "    112272535095293,\n",
    "    115280095190773,\n",
    "    115797848077099,\n",
    "    1099726899285419]\n",
    "\n",
    "def is_prime(n):\n",
    "    if n % 2 == 0:\n",
    "        return False\n",
    "\n",
    "    sqrt_n = int(math.floor(math.sqrt(n)))\n",
    "    for i in range(3, sqrt_n + 1, 2):\n",
    "        if n % i == 0:\n",
    "            return False\n",
    "    return True\n",
    "\n",
    "def main():\n",
    "    with concurrent.futures.ProcessPoolExecutor() as executor:\n",
    "        for number, prime in zip(PRIMES, executor.map(is_prime, PRIMES)):\n",
    "            print('%d is prime: %s' % (number, prime))\n",
    "\n",
    "main()"
   ]
  },
  {
   "cell_type": "code",
   "execution_count": null,
   "metadata": {},
   "outputs": [],
   "source": []
  }
 ],
 "metadata": {
  "kernelspec": {
   "display_name": "Python 3",
   "language": "python",
   "name": "python3"
  },
  "language_info": {
   "codemirror_mode": {
    "name": "ipython",
    "version": 3
   },
   "file_extension": ".py",
   "mimetype": "text/x-python",
   "name": "python",
   "nbconvert_exporter": "python",
   "pygments_lexer": "ipython3",
   "version": "3.6.4"
  }
 },
 "nbformat": 4,
 "nbformat_minor": 2
}
