{
 "cells": [
  {
   "cell_type": "code",
   "execution_count": 3,
   "metadata": {},
   "outputs": [
    {
     "data": {
      "image/png": "[encoded data removed]",
      "text/plain": [
       "    ____________        ⎛      ____________⎞\n",
       "2⋅╲╱ x + log(x)  + 2⋅log⎝x + ╲╱ x + log(x) ⎠"
      ]
     },
     "execution_count": 3,
     "metadata": {},
     "output_type": "execute_result"
    }
   ],
   "source": [
    "from sympy import init_printing, integrate, log, sqrt, symbols\n",
    "init_printing()\n",
    "x = symbols('x')\n",
    "g = sqrt(x + log(x))\n",
    "f = (x ** 2 + 2 * x + 1 + (3 * x + 1) * g) / (x * g * (x + g))\n",
    "f\n",
    "integrate(f, x)\n"
   ]
  },
  {
   "cell_type": "code",
   "execution_count": null,
   "metadata": {},
   "outputs": [],
   "source": []
  }
 ],
 "metadata": {
  "kernelspec": {
   "display_name": "Python 3",
   "language": "python",
   "name": "python3"
  },
  "language_info": {
   "codemirror_mode": {
    "name": "ipython",
    "version": 3
   },
   "file_extension": ".py",
   "mimetype": "text/x-python",
   "name": "python",
   "nbconvert_exporter": "python",
   "pygments_lexer": "ipython3",
   "version": "3.6.1"
  }
 },
 "nbformat": 4,
 "nbformat_minor": 2
}
