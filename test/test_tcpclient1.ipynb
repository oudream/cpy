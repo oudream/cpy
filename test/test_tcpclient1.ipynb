{
 "cells": [
  {
   "cell_type": "code",
   "execution_count": 3,
   "metadata": {},
   "outputs": [
    {
     "name": "stdout",
     "output_type": "stream",
     "text": [
      "b'ACK!'\n"
     ]
    }
   ],
   "source": [
    "import socket\n",
    "\n",
    "hostname, sld, tld, port = 'www', 'integralist', 'co.uk', 80\n",
    "target = '{}.{}.{}'.format(hostname, sld, tld)\n",
    "\n",
    "# create an ipv4 (AF_INET) socket object using the tcp protocol (SOCK_STREAM)\n",
    "client = socket.socket(socket.AF_INET, socket.SOCK_STREAM)\n",
    "\n",
    "# connect the client\n",
    "# client.connect((target, port))\n",
    "client.connect(('0.0.0.0', 9998))\n",
    "\n",
    "# send some data (in this case a HTTP GET request)\n",
    "client.send('GET /index.html HTTP/1.1\\r\\nHost: {}.{}\\r\\n\\r\\n'.format(sld, tld).encode('utf-8'))\n",
    "client.send('GET /index.html HTTP/1.1\\r\\nHost: {}.{}\\r\\n\\r\\n'.format(sld, tld).encode('utf-8'))\n",
    "\n",
    "# receive the response data (4096 is recommended buffer size)\n",
    "response = client.recv(4096)\n",
    "\n",
    "print(response)"
   ]
  },
  {
   "cell_type": "code",
   "execution_count": 2,
   "metadata": {},
   "outputs": [
    {
     "data": {
      "text/plain": [
       "53"
      ]
     },
     "execution_count": 2,
     "metadata": {},
     "output_type": "execute_result"
    }
   ],
   "source": []
  },
  {
   "cell_type": "code",
   "execution_count": null,
   "metadata": {},
   "outputs": [],
   "source": []
  }
 ],
 "metadata": {
  "kernelspec": {
   "display_name": "Python 3",
   "language": "python",
   "name": "python3"
  },
  "language_info": {
   "codemirror_mode": {
    "name": "ipython",
    "version": 3
   },
   "file_extension": ".py",
   "mimetype": "text/x-python",
   "name": "python",
   "nbconvert_exporter": "python",
   "pygments_lexer": "ipython3",
   "version": "3.6.1"
  }
 },
 "nbformat": 4,
 "nbformat_minor": 2
}
