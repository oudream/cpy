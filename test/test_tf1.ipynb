{
 "cells": [
  {
   "cell_type": "code",
   "execution_count": 4,
   "metadata": {},
   "outputs": [
    {
     "name": "stdout",
     "output_type": "stream",
     "text": [
      "[[ 0.  0.  3.]\n",
      " [ 0.  0.  3.]\n",
      " [ 0.  0.  3.]]\n",
      "2\n",
      "[[ 2.  4.  6.]\n",
      " [ 2.  4.  6.]\n",
      " [ 2.  4.  6.]]\n"
     ]
    }
   ],
   "source": [
    "import tensorflow as tf    \n",
    "  \n",
    "#两个矩阵相乘  \n",
    "x=tf.constant([[1.0,2.0,3.0],[1.0,2.0,3.0],[1.0,2.0,3.0]])    \n",
    "y=tf.constant([[0,0,1.0],[0,0,1.0],[0,0,1.0]])  \n",
    "#注意这里这里x,y要有相同的数据类型，不然就会因为数据类型不匹配而出错  \n",
    "z=tf.multiply(x,y)  \n",
    "  \n",
    "#两个数相乘  \n",
    "x1=tf.constant(1)  \n",
    "y1=tf.constant(2)  \n",
    "#注意这里这里x1,y1要有相同的数据类型，不然就会因为数据类型不匹配而出错  \n",
    "z1=tf.multiply(x1,y1)  \n",
    "  \n",
    "#数和矩阵相乘  \n",
    "x2=tf.constant([[1.0,2.0,3.0],[1.0,2.0,3.0],[1.0,2.0,3.0]])  \n",
    "y2=tf.constant(2.0)  \n",
    "#注意这里这里x1,y1要有相同的数据类型，不然就会因为数据类型不匹配而出错  \n",
    "z2=tf.multiply(x2,y2)  \n",
    "  \n",
    "with tf.Session() as sess:    \n",
    "    print(sess.run(z))  \n",
    "    print(sess.run(z1))  \n",
    "    print(sess.run(z2)) "
   ]
  },
  {
   "cell_type": "code",
   "execution_count": null,
   "metadata": {},
   "outputs": [],
   "source": []
  }
 ],
 "metadata": {
  "kernelspec": {
   "display_name": "Python 3",
   "language": "python",
   "name": "python3"
  },
  "language_info": {
   "codemirror_mode": {
    "name": "ipython",
    "version": 3
   },
   "file_extension": ".py",
   "mimetype": "text/x-python",
   "name": "python",
   "nbconvert_exporter": "python",
   "pygments_lexer": "ipython3",
   "version": "3.6.1"
  }
 },
 "nbformat": 4,
 "nbformat_minor": 2
}
